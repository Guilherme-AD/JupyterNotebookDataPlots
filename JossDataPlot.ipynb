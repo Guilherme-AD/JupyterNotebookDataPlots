{
 "cells": [
  {
   "cell_type": "markdown",
   "metadata": {},
   "source": [
    "### Plotting Data from NetCDF files originating from Joss-Waldvogel Impact Disdrometers"
   ]
  },
  {
   "cell_type": "markdown",
   "metadata": {},
   "source": [
    "1) Install and import necessary Python libraries:"
   ]
  },
  {
   "cell_type": "code",
   "execution_count": 86,
   "metadata": {},
   "outputs": [],
   "source": [
    "from netCDF4 import Dataset #Used for writing/reading netCDF files\n",
    "import matplotlib.pyplot #Used to generate the data plots"
   ]
  },
  {
   "cell_type": "markdown",
   "metadata": {},
   "source": [
    "2) Open the NetCDF file by using the \"Dataset()\" function and specifying the file's address. Assign the Dataset object to an array for convenience:"
   ]
  },
  {
   "cell_type": "code",
   "execution_count": 16,
   "metadata": {},
   "outputs": [],
   "source": [
    "address = r\"\" #Copy and paste address between quotation marks\n",
    "data = Dataset(address, 'r') #'r' in the second argument tells the function to read the file"
   ]
  },
  {
   "cell_type": "markdown",
   "metadata": {},
   "source": [
    "3) Printing the \"data\" variable will show the NetCDF file's header, including information about dimensions, variables and other attributes:"
   ]
  },
  {
   "cell_type": "code",
   "execution_count": 17,
   "metadata": {},
   "outputs": [
    {
     "name": "stdout",
     "output_type": "stream",
     "text": [
      "<class 'netCDF4._netCDF4.Dataset'>\n",
      "root group (NETCDF4 data model, file format HDF5):\n",
      "    description: Data collected from an impact disdrometer in the ATTO-Campina site\n",
      "    site_id: att\n",
      "    platform_id: jwd\n",
      "    facility_id: cam\n",
      "    data_level: b0\n",
      "    location_description: Amazon Tall Tower Observatory (ATTO), Amazonia, Brazil\n",
      "    datastream: attimpactdisdcam.bo\n",
      "    sampling_interval: 1 minute\n",
      "    averaging_interval: N/A\n",
      "    dimensions(sizes): time(1440), drop_class(20)\n",
      "    variables(dimensions): float32 rain_rate(time), float32 num_drop(time,drop_class), uint32 base_time(), float64 time(time), float64 time_offset(time), float32 mean_diam_drop_class(drop_class), float32 fall_vel(drop_class), float32 delta_diam(drop_class), float32 lat(), float32 lon(), float32 alt(), float32 liq_water(time), float32 zdb(time), float32 ef(time), float32 lambda(time), float32 d_max(time), float32 nd(time,drop_class), float32 n_0(time), float32 precip_dis(time), uint32 qc_time(time), uint32 qc_precip_dis(time), uint32 qc_num_drop(time,drop_class), uint32 qc_rain_rate(time)\n",
      "    groups: \n"
     ]
    }
   ],
   "source": [
    "print(data)"
   ]
  },
  {
   "cell_type": "markdown",
   "metadata": {},
   "source": [
    "4) To access a certain variable's data, simply copy its name from the header and do the following:"
   ]
  },
  {
   "cell_type": "code",
   "execution_count": 84,
   "metadata": {},
   "outputs": [
    {
     "name": "stdout",
     "output_type": "stream",
     "text": [
      "[0.     0.     0.     ... 0.4121 0.4604 0.367 ]\n",
      "mm/hr\n"
     ]
    }
   ],
   "source": [
    "variableData = data['rain_rate'][:] #The \"variableData\" variable now holds all of the selected variable's data\n",
    "variableInfo = data['rain_rate'] #Contains information about the variable\n",
    "print(variableData[:])\n",
    "print(variableInfo.units) #Optionally, we can print information about the variable (units, long_name, etc)"
   ]
  },
  {
   "cell_type": "markdown",
   "metadata": {},
   "source": [
    "5) In order to plot the selected variable, do the following:"
   ]
  },
  {
   "cell_type": "code",
   "execution_count": 87,
   "metadata": {},
   "outputs": [
    {
     "data": {
      "text/plain": [
       "[<matplotlib.lines.Line2D at 0x27df47d01c0>]"
      ]
     },
     "execution_count": 87,
     "metadata": {},
     "output_type": "execute_result"
    },
    {
     "data": {
      "image/png": "[encoded data removed]",
      "text/plain": [
       "<Figure size 432x288 with 1 Axes>"
      ]
     },
     "metadata": {
      "needs_background": "light"
     },
     "output_type": "display_data"
    }
   ],
   "source": [
    "fig, axis = matplotlib.pyplot.subplots()\n",
    "axis.grid() #Adds a grid to the image (optional)\n",
    "axis.plot(variableData) #Plots the data to the image"
   ]
  },
  {
   "cell_type": "markdown",
   "metadata": {},
   "source": [
    "Note: This is the simplest and easiest way to plot data from the instrument. It is also possible to add legends and a title to the plot with other commands. We can also add dates instead of indexes to the x axis, but that requires slightly more complex commands"
   ]
  }
 ],
 "metadata": {
  "kernelspec": {
   "display_name": "Python 3",
   "language": "python",
   "name": "python3"
  },
  "language_info": {
   "codemirror_mode": {
    "name": "ipython",
    "version": 3
   },
   "file_extension": ".py",
   "mimetype": "text/x-python",
   "name": "python",
   "nbconvert_exporter": "python",
   "pygments_lexer": "ipython3",
   "version": "3.8.3"
  }
 },
 "nbformat": 4,
 "nbformat_minor": 4
}
